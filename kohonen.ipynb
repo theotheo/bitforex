{
 "cells": [
  {
   "cell_type": "code",
   "execution_count": null,
   "metadata": {},
   "outputs": [],
   "source": [
    "from sklearn import datasets\n",
    "import pandas as pd\n",
    "import glob\n",
    "\n",
    "import rpy2.interactive as r\n",
    "import rpy2.interactive.packages\n",
    "\n",
    "from rpy2.robjects import pandas2ri\n",
    "pandas2ri.activate()\n",
    "%load_ext rpy2.ipython\n",
    "\n",
    "rlib = r.packages.packages\n",
    "r.packages.importr(\"utils\")\n",
    "\n",
    "import seaborn as sns\n",
    "%matplotlib inline\n",
    "\n",
    "# install\n",
    "#rlib.utils.install_packages(\"NbClust\");\n",
    "#rlib.utils.install_packages(\"kohonen\")"
   ]
  },
  {
   "cell_type": "markdown",
   "metadata": {},
   "source": [
    "## число кластеров"
   ]
  },
  {
   "cell_type": "code",
   "execution_count": null,
   "metadata": {},
   "outputs": [],
   "source": []
  },
  {
   "cell_type": "code",
   "execution_count": null,
   "metadata": {},
   "outputs": [],
   "source": [
    "df_fns = glob.glob('data/processed/joined/*')\n",
    "df_fns"
   ]
  },
  {
   "cell_type": "code",
   "execution_count": null,
   "metadata": {},
   "outputs": [],
   "source": [
    "df = pd.read_pickle(df_fns[5])\n",
    "\n",
    "features = df.filter(regex='(size_)|(price)').columns\n",
    "df = df[features]\n",
    "df['target'] = df.price\n",
    "print(df.head())\n",
    "print(df.shape)\n",
    "\n",
    "sns.pairplot(df[features]);"
   ]
  },
  {
   "cell_type": "code",
   "execution_count": null,
   "metadata": {},
   "outputs": [],
   "source": [
    "# преобразуем его в R-пригодный вид\n",
    "r_df = pandas2ri.py2ri(df[features])\n",
    "# и отправим в R\n",
    "%Rpush r_df "
   ]
  },
  {
   "cell_type": "code",
   "execution_count": null,
   "metadata": {},
   "outputs": [],
   "source": [
    "%R library(NbClust);\n",
    "%R set.seed(1234);\n",
    "%R Nnc <- NbClust(r_df, distance = \"euclidean\", min.nc = 2, max.nc = 10, method = \"complete\", index = \"all\")"
   ]
  },
  {
   "cell_type": "code",
   "execution_count": null,
   "metadata": {},
   "outputs": [],
   "source": [
    "%R table(Nnc$Best.n[1,])\n",
    "%R barplot(table(Nnc$Best.n[1,]), xlab=\"Number of Clusters\", ylab=\"Number of Criteria\", main=\"Number of Clusters Chosen by 30 Criteria\");"
   ]
  },
  {
   "cell_type": "code",
   "execution_count": null,
   "metadata": {},
   "outputs": [],
   "source": [
    "sns.pairplot(df, hue = 'target');"
   ]
  },
  {
   "cell_type": "markdown",
   "metadata": {},
   "source": [
    "## кохонен"
   ]
  },
  {
   "cell_type": "code",
   "execution_count": null,
   "metadata": {},
   "outputs": [],
   "source": [
    "%R library(kohonen)\n",
    "%R set.seed(1234)"
   ]
  },
  {
   "cell_type": "code",
   "execution_count": null,
   "metadata": {},
   "outputs": [],
   "source": [
    "# данные нужно отдать в виде матрицы\n",
    "%R matrix <- as.matrix(r_df)\n",
    "%R som_grid <- somgrid(topo=\"hexagonal\")"
   ]
  },
  {
   "cell_type": "code",
   "execution_count": null,
   "metadata": {},
   "outputs": [],
   "source": [
    "# и организовать карту\n",
    "%R bos.som <- som(matrix, som_grid, rlen=50, alpha=c(0.05,0.01), keep.data = TRUE);"
   ]
  },
  {
   "cell_type": "code",
   "execution_count": null,
   "metadata": {},
   "outputs": [],
   "source": [
    "# теперь определим количество кластеров\n",
    "%R codes <- getCodes(bos.som)\n",
    "%R b_Nnc <- NbClust(codes, min.nc=2, max.nc=20, method=\"kmeans\");"
   ]
  },
  {
   "cell_type": "code",
   "execution_count": null,
   "metadata": {},
   "outputs": [],
   "source": [
    "# и посмотрим на некоторые визуализации\n",
    "%R plot(bos.som, type=\"dist.neighbours\")\n",
    "%R plot(bos.som, type=\"changes\",main=\"Training Progress\")"
   ]
  },
  {
   "cell_type": "code",
   "execution_count": null,
   "metadata": {},
   "outputs": [],
   "source": [
    "# в конечном итоге, вот так выглядит в двумерном пространстве весь датасет\n",
    "%R som_cluster <- cutree(hclust(dist(codes)), length(unique(b_Nnc$Best.partition)))\n",
    "%R pretty_palette <- c('#7DBD00', '#62C2CC', '#FF5B00', '#f1bc41')\n",
    "%R plot(bos.som, type='mapping', bgcol = pretty_palette[som_cluster], main = \"Clusters\") "
   ]
  },
  {
   "cell_type": "code",
   "execution_count": null,
   "metadata": {},
   "outputs": [],
   "source": [
    "# %R bos_id <- 1:nrow(r_df)\n",
    "%R cluster_details <- data.frame(cluster = som_cluster[bos.som$unit.classif])\n",
    "%Rpull cluster_details"
   ]
  },
  {
   "cell_type": "code",
   "execution_count": null,
   "metadata": {},
   "outputs": [],
   "source": [
    "df['cluster'] = cluster_details.cluster.as_matrix()\n",
    "df"
   ]
  },
  {
   "cell_type": "code",
   "execution_count": null,
   "metadata": {},
   "outputs": [],
   "source": [
    "df[df['cluster'] == 1].describe()\n",
    "df[df['cluster'] == 2].describe()\n",
    "df[df['cluster'] == 3].describe()"
   ]
  },
  {
   "cell_type": "code",
   "execution_count": null,
   "metadata": {},
   "outputs": [],
   "source": [
    "def add_clusters(fn):\n",
    "    try:\n",
    "        df = pd.read_pickle(fn)\n",
    "        features = df.filter(regex='(size_)|(price)').columns\n",
    "        df = df[features]\n",
    "        df['target'] = df.price\n",
    "    #     print(df.head())\n",
    "    #     print(df.shape)\n",
    "        # преобразуем его в R-пригодный вид\n",
    "        r_df = pandas2ri.py2ri(df[features])\n",
    "        # и отправим в R\n",
    "        %Rpush r_df \n",
    "        # данные нужно отдать в виде матрицы\n",
    "        %R matrix <- as.matrix(r_df)\n",
    "        %R som_grid <- somgrid(topo=\"hexagonal\")\n",
    "        %R bos.som <- som(matrix, som_grid, rlen=50, alpha=c(0.05,0.01), keep.data = TRUE);\n",
    "        # в конечном итоге, вот так выглядит в двумерном пространстве весь датасет\n",
    "        %R som_cluster <- cutree(hclust(dist(codes)), length(unique(b_Nnc$Best.partition)))\n",
    "        # %R bos_id <- 1:nrow(r_df)\n",
    "        %R cluster_details <- data.frame(cluster = som_cluster[bos.som$unit.classif])\n",
    "        %Rpull cluster_details\n",
    "        df['cluster'] = cluster_details.cluster.as_matrix()\n",
    "        df.to_pickle('data/processed/with_clusters/{}'.format(fn.split('/')[-1]))\n",
    "    except:\n",
    "        print(fn, 'error')\n",
    "    "
   ]
  },
  {
   "cell_type": "code",
   "execution_count": null,
   "metadata": {},
   "outputs": [],
   "source": [
    "for fn in df_fns:\n",
    "    add_clusters(fn)"
   ]
  },
  {
   "cell_type": "code",
   "execution_count": null,
   "metadata": {},
   "outputs": [],
   "source": []
  }
 ],
 "metadata": {
  "anaconda-cloud": {},
  "kernelspec": {
   "display_name": "Python 3",
   "language": "python",
   "name": "python3"
  },
  "language_info": {
   "codemirror_mode": {
    "name": "ipython",
    "version": 3
   },
   "file_extension": ".py",
   "mimetype": "text/x-python",
   "name": "python",
   "nbconvert_exporter": "python",
   "pygments_lexer": "ipython3",
   "version": "3.5.2"
  },
  "toc": {
   "colors": {
    "hover_highlight": "#DAA520",
    "running_highlight": "#FF0000",
    "selected_highlight": "#FFD700"
   },
   "moveMenuLeft": true,
   "nav_menu": {
    "height": "122px",
    "width": "253px"
   },
   "navigate_menu": true,
   "number_sections": true,
   "sideBar": true,
   "threshold": 4,
   "toc_cell": false,
   "toc_section_display": "block",
   "toc_window_display": false,
   "widenNotebook": false
  }
 },
 "nbformat": 4,
 "nbformat_minor": 1
}
