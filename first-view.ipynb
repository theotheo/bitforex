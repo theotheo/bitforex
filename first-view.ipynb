{
 "cells": [
  {
   "cell_type": "markdown",
   "metadata": {},
   "source": [
    "## Load RData"
   ]
  },
  {
   "cell_type": "code",
   "execution_count": null,
   "metadata": {},
   "outputs": [],
   "source": [
    "import rpy2.robjects as robjects\n",
    "import numpy as np\n",
    "\n",
    "RDATA_FN = 'data/raw/data_env.rdata'\n",
    "robjects.r['load'](RDATA_FN)\n",
    "\n",
    "# show rdata variables\n",
    "print(robjects.r['ls']())"
   ]
  },
  {
   "cell_type": "code",
   "execution_count": null,
   "metadata": {},
   "outputs": [],
   "source": [
    "# get it\n",
    "order_book_df = robjects.r['order_book']\n",
    "order_log_df = robjects.r['order_log']\n",
    "trade_df = robjects.r['trade']"
   ]
  },
  {
   "cell_type": "markdown",
   "metadata": {},
   "source": [
    "## Preprocess raw data"
   ]
  },
  {
   "cell_type": "code",
   "execution_count": null,
   "metadata": {
    "focus": false,
    "id": "23ec4e46-58f6-4778-ae80-0e31e1a49601"
   },
   "outputs": [],
   "source": [
    "import pandas as pd\n",
    "import pandas_profiling\n",
    "import missingno as msno\n",
    "import seaborn as sns\n",
    "import matplotlib.pyplot as plt\n",
    "import numpy as np\n",
    "\n",
    "from pandas_keeper import col_metatypes, fvdf\n",
    "\n",
    "np.seterr(all='ignore');"
   ]
  },
  {
   "cell_type": "markdown",
   "metadata": {},
   "source": [
    "### Order Book "
   ]
  },
  {
   "cell_type": "code",
   "execution_count": null,
   "metadata": {},
   "outputs": [],
   "source": [
    "order_book_df = pd.read_pickle('data/processed/order_book_df')"
   ]
  },
  {
   "cell_type": "code",
   "execution_count": null,
   "metadata": {},
   "outputs": [],
   "source": [
    "fvdf(order_book_df)"
   ]
  },
  {
   "cell_type": "code",
   "execution_count": null,
   "metadata": {},
   "outputs": [],
   "source": [
    "counts = order_book_df.groupby('dt').count()['type']\n",
    "weights = np.ones_like(counts)/len(counts)\n",
    "plt.hist(counts, weights=weights, bins=100);"
   ]
  },
  {
   "cell_type": "code",
   "execution_count": null,
   "metadata": {},
   "outputs": [],
   "source": [
    "order_book_df.groupby('dt').count()['type'].hist(bins=100)"
   ]
  },
  {
   "cell_type": "code",
   "execution_count": null,
   "metadata": {},
   "outputs": [],
   "source": [
    "counts = order_book_df['dt'].value_counts()\n",
    "weights = np.ones_like(counts)/len(counts)\n",
    "plt.hist(counts, weights=weights, bins=100);"
   ]
  },
  {
   "cell_type": "code",
   "execution_count": null,
   "metadata": {},
   "outputs": [],
   "source": [
    "# convert to appropriate type\n",
    "order_book_df['dt'] = pd.to_datetime(order_book_df['dt'])\n",
    "cat_cols = ['from', 'to', 'source', 'type']\n",
    "for col in cat_cols:\n",
    "    order_book_df[col] = order_book_df[col].astype('category')\n",
    "fvdf(order_book_df)"
   ]
  },
  {
   "cell_type": "markdown",
   "metadata": {},
   "source": [
    "### Order Log"
   ]
  },
  {
   "cell_type": "code",
   "execution_count": null,
   "metadata": {},
   "outputs": [],
   "source": [
    "fvdf(order_log_df)"
   ]
  },
  {
   "cell_type": "code",
   "execution_count": null,
   "metadata": {
    "run_control": {
     "marked": true
    }
   },
   "outputs": [],
   "source": [
    "# convert to appropriate type\n",
    "order_log_df['dt'] = pd.to_datetime(order_log_df['dt'])\n",
    "cat_cols = ['from', 'to', 'source']\n",
    "for col in cat_cols:\n",
    "    order_log_df[col] = order_log_df[col].astype('category')\n",
    "fvdf(order_log_df)"
   ]
  },
  {
   "cell_type": "markdown",
   "metadata": {},
   "source": [
    "### Trade "
   ]
  },
  {
   "cell_type": "code",
   "execution_count": null,
   "metadata": {
    "focus": false,
    "id": "3861ed9e-2299-4fb8-8317-fe4ad9a88ac4"
   },
   "outputs": [],
   "source": [
    "fvdf(trade_df)"
   ]
  },
  {
   "cell_type": "code",
   "execution_count": null,
   "metadata": {},
   "outputs": [],
   "source": [
    "# convert to appropriate type\n",
    "trade_df['dt'] = pd.to_datetime(trade_df['dt'])\n",
    "cat_cols = ['from', 'to', 'source', 'type']\n",
    "for col in cat_cols:\n",
    "    trade_df[col] = trade_df[col].astype('category')\n",
    "fvdf(trade_df)"
   ]
  },
  {
   "cell_type": "markdown",
   "metadata": {},
   "source": [
    "### save pandas_profiling reports and pickled"
   ]
  },
  {
   "cell_type": "code",
   "execution_count": null,
   "metadata": {
    "focus": true,
    "id": "39d455ea-d882-408d-8ba9-6afd64a4c5e2"
   },
   "outputs": [],
   "source": [
    "for i in range(len(dfs)):\n",
    "    name = [k for k, v in locals().items() if v is dfs[i]][0]\n",
    "    print(name)\n",
    "    df = dfs[i]\n",
    "    metatypes = col_metatypes(df)\n",
    "    nested_cols = [col for col, kind in metatypes.items() if kind in [list, dict]]\n",
    "    profile = pandas_profiling.ProfileReport(df.drop(nested_cols, axis=1))\n",
    "    profile.to_file(outputfile='profiles/{}.html'.format(name))\n",
    "    df.to_pickle('data/processed/{}.pkl'.format(name))"
   ]
  }
 ],
 "metadata": {
  "kernelspec": {
   "display_name": "Python 3",
   "language": "python",
   "name": "python3"
  },
  "language_info": {
   "codemirror_mode": {
    "name": "ipython",
    "version": 3
   },
   "file_extension": ".py",
   "mimetype": "text/x-python",
   "name": "python",
   "nbconvert_exporter": "python",
   "pygments_lexer": "ipython3",
   "version": "3.5.2"
  },
  "toc": {
   "colors": {
    "hover_highlight": "#DAA520",
    "running_highlight": "#FF0000",
    "selected_highlight": "#FFD700"
   },
   "moveMenuLeft": true,
   "nav_menu": {
    "height": "3px",
    "width": "253px"
   },
   "navigate_menu": true,
   "number_sections": true,
   "sideBar": true,
   "threshold": 4,
   "toc_cell": false,
   "toc_section_display": "block",
   "toc_window_display": false,
   "widenNotebook": false
  }
 },
 "nbformat": 4,
 "nbformat_minor": 1
}
