{
 "cells": [
  {
   "cell_type": "code",
   "execution_count": null,
   "metadata": {},
   "outputs": [],
   "source": [
    "import pandas as pd\n",
    "import pandas_profiling\n",
    "import missingno as msno\n",
    "import seaborn as sns\n",
    "import matplotlib.pyplot as plt\n",
    "import numpy as np\n",
    "\n",
    "import itertools"
   ]
  },
  {
   "cell_type": "code",
   "execution_count": null,
   "metadata": {},
   "outputs": [],
   "source": [
    "order_book_df = pd.read_pickle('data/processed/order_book_df')\n",
    "trade_df = pd.read_pickle('data/processed/trade_df')"
   ]
  },
  {
   "cell_type": "code",
   "execution_count": null,
   "metadata": {},
   "outputs": [],
   "source": [
    "trade_df['source'].value_counts().plot(kind='bar')"
   ]
  },
  {
   "cell_type": "code",
   "execution_count": null,
   "metadata": {},
   "outputs": [],
   "source": [
    "trade_df['to'].value_counts().plot(kind='bar')"
   ]
  },
  {
   "cell_type": "code",
   "execution_count": null,
   "metadata": {},
   "outputs": [],
   "source": [
    "trade_df['from'].value_counts().plot(kind='bar')"
   ]
  },
  {
   "cell_type": "code",
   "execution_count": null,
   "metadata": {},
   "outputs": [],
   "source": [
    "trade_df['type'].value_counts().plot(kind='bar')"
   ]
  },
  {
   "cell_type": "code",
   "execution_count": null,
   "metadata": {},
   "outputs": [],
   "source": [
    "for col in order_book_df:\n",
    "    print(order_book_df[col].unique())\n",
    "    print()"
   ]
  },
  {
   "cell_type": "code",
   "execution_count": null,
   "metadata": {},
   "outputs": [],
   "source": [
    "order_book_df.head()"
   ]
  },
  {
   "cell_type": "code",
   "execution_count": null,
   "metadata": {},
   "outputs": [],
   "source": [
    "fig, axes = plt.subplots(2, 1, sharex=True)\n",
    "trade_df.dt.hist(ax=axes[0])\n",
    "order_book_df.dt.hist(ax=axes[1])"
   ]
  },
  {
   "cell_type": "code",
   "execution_count": null,
   "metadata": {},
   "outputs": [],
   "source": [
    "min_date = order_book_df['dt'].min()\n",
    "max_date = trade_df['dt'].max()"
   ]
  },
  {
   "cell_type": "code",
   "execution_count": null,
   "metadata": {},
   "outputs": [],
   "source": [
    "def filter_df(df, source, to, from_, type_):\n",
    "    source_mask = (df['source'] == source)\n",
    "    dates_mask = ((df['dt'] >= min_date) & (df['dt'] <= max_date))\n",
    "    to_mask = (df['to'] == to)\n",
    "    from_mask = (df['from'] == from_)\n",
    "    type_mask = (df['type'] == type_)\n",
    "    return df[dates_mask & source_mask & to_mask & from_mask & type_mask]"
   ]
  },
  {
   "cell_type": "code",
   "execution_count": null,
   "metadata": {},
   "outputs": [],
   "source": [
    "agg_functions = {'price': {'min': 'min', 'max': 'max', 'mean': 'mean', 'median': 'median'},\n",
    "'size': {'min': 'min', 'max': 'max', 'mean': 'mean', 'median': 'median', 'count': 'count', 'sum': 'sum'}}\n",
    "\n",
    "sources = ['EXMO', 'BTCE']\n",
    "froms = ['DOGE', 'DASH', 'USD', 'BTC', 'LTC', 'ETH', 'NMC', 'NVC', 'PPC', 'EUR']\n",
    "tos = ['USD', 'RUB', 'BTC', 'RUR', 'EUR']\n",
    "types = ['BID', 'ASK']\n",
    "\n",
    "dfs = {}\n",
    "\n",
    "for source, from_, to, type_ in itertools.product(sources, froms, tos, types):\n",
    "    filtered_order_book_df = filter_df(order_book_df, source, from_, to, type_).groupby('dt').agg(agg)\n",
    "    filtered_order_book_df.columns = ['_'.join(col).strip() for col in filtered_order_book_df.columns.values]\n",
    "#     filtered_order_book_df.loc[pd.to_datetime('2016-03-04 23:59:59'), 'size_count'] = 0\n",
    "    filtered_order_book_df.loc[pd.to_datetime('2016-03-07 23:59:59'), 'size_count'] = 0\n",
    "    mask = '_'.join([source, from_, to, type_])\n",
    "    resampled_order_book_df = filtered_order_book_df.resample('s').first().ffill()\n",
    "    if resampled_order_book_df.shape[0] > 1:\n",
    "#         dfs[mask] = {'order_book': resampled_order_book_df}\n",
    "        if type_ == 'BID':\n",
    "            type_ = 'BUY'\n",
    "        else:\n",
    "            type_ = 'SELL'\n",
    "        mask = '_'.join([source, from_, to, type_])\n",
    "\n",
    "        filtered_trade_df = filter_df(trade_df, source, from_, to, type_)\n",
    "        joined_df = filtered_trade_df.set_index('dt').join(resampled_order_book_df)\n",
    "        print('{}: {} (from {}) + {} -> {}'.format(mask, resampled_order_book_df.shape[0], filtered_order_book_df.shape[0], filtered_trade_df.shape[0], joined_df.shape))    \n",
    "        dfs[mask] = {'order_book': resampled_order_book_df, 'trade': df.set_index('dt'), 'joined': joined_df}\n",
    "        joined_df.to_pickle('data/processed/joined/{}_joined'.format(mask))\n",
    "        "
   ]
  },
  {
   "cell_type": "code",
   "execution_count": null,
   "metadata": {},
   "outputs": [],
   "source": [
    "for mask in dfs.keys():\n",
    "    resampled_order_book_df = dfs[mask]['order_book']\n",
    "    filtered_trade_df = dfs[mask]['trade']\n",
    "    joined_df = dfs[mask]['joined']\n",
    "\n",
    "    fig, axes = plt.subplots(3, 1, sharex=True)\n",
    "    fig.suptitle(mask)\n",
    "    resampled_order_book_df[['size_sum']].plot(ax=axes[0])\n",
    "    resampled_order_book_df[['price_mean']].plot(ax=axes[1])\n",
    "    joined_df[['price']].plot(ax=axes[2])"
   ]
  }
 ],
 "metadata": {
  "kernelspec": {
   "display_name": "Python 3",
   "language": "python",
   "name": "python3"
  },
  "language_info": {
   "codemirror_mode": {
    "name": "ipython",
    "version": 3
   },
   "file_extension": ".py",
   "mimetype": "text/x-python",
   "name": "python",
   "nbconvert_exporter": "python",
   "pygments_lexer": "ipython3",
   "version": "3.5.2"
  },
  "toc": {
   "colors": {
    "hover_highlight": "#DAA520",
    "running_highlight": "#FF0000",
    "selected_highlight": "#FFD700"
   },
   "moveMenuLeft": true,
   "nav_menu": {
    "height": "3px",
    "width": "253px"
   },
   "navigate_menu": true,
   "number_sections": true,
   "sideBar": true,
   "threshold": 4,
   "toc_cell": false,
   "toc_section_display": "block",
   "toc_window_display": false,
   "widenNotebook": false
  }
 },
 "nbformat": 4,
 "nbformat_minor": 2
}
