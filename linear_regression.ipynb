{
 "cells": [
  {
   "cell_type": "code",
   "execution_count": null,
   "metadata": {},
   "outputs": [],
   "source": [
    "from sklearn import datasets\n",
    "import pandas as pd\n",
    "import glob\n",
    "from sklearn.linear_model import LinearRegression\n",
    "from sklearn.model_selection import train_test_split\n",
    "from sklearn.preprocessing import StandardScaler\n",
    "from sklearn.metrics import mean_squared_error, log_loss, roc_auc_score\n"
   ]
  },
  {
   "cell_type": "code",
   "execution_count": null,
   "metadata": {},
   "outputs": [],
   "source": [
    "df_fns = glob.glob('data/processed/with_clusters/*')\n",
    "df_fns"
   ]
  },
  {
   "cell_type": "code",
   "execution_count": null,
   "metadata": {},
   "outputs": [],
   "source": [
    "def fit(df, with_cluster=False):\n",
    "    features = df.filter(regex='(size_)|(price)|(cluster)').columns\n",
    "    df = df[features]\n",
    "    if not with_cluster:\n",
    "        df = df.drop(['cluster'], axis=1)\n",
    "\n",
    "#     print(df.shape)\n",
    "#     df.head()\n",
    "\n",
    "    y = df.price\n",
    "    X = df.drop(['price'], axis=1)\n",
    "    X_train, X_valid, y_train, y_valid = train_test_split(X, y,\n",
    "                                                         test_size=0.3,\n",
    "                                                         random_state=1234)\n",
    "    scaler = StandardScaler()\n",
    "    X_train_scaled = scaler.fit_transform(X_train)\n",
    "    X_valid_scaled = scaler.transform(X_valid)\n",
    "    \n",
    "    clf = LinearRegression()\n",
    "    clf.fit(X_train_scaled, y_train)\n",
    "    predicted = clf.predict(X_valid_scaled)\n",
    "    print('MSE: {}'.format(mean_squared_error(y_valid, predicted)))\n",
    "    return clf"
   ]
  },
  {
   "cell_type": "code",
   "execution_count": null,
   "metadata": {},
   "outputs": [],
   "source": [
    "for fn in df_fns:\n",
    "    print(fn)\n",
    "    df = pd.read_pickle(fn).dropna()\n",
    "    print('without cluster')\n",
    "    clf = fit(df)\n",
    "    print('with cluster')\n",
    "    clf = fit(df, with_cluster=True)\n",
    "    print()"
   ]
  },
  {
   "cell_type": "code",
   "execution_count": null,
   "metadata": {},
   "outputs": [],
   "source": [
    "for fn in df_fns:\n",
    "    print(fn)\n",
    "    df = pd.read_pickle(fn).dropna()\n",
    "    clf = fit(df, with_cluster=True)"
   ]
  }
 ],
 "metadata": {
  "kernelspec": {
   "display_name": "Python 3",
   "language": "python",
   "name": "python3"
  },
  "language_info": {
   "codemirror_mode": {
    "name": "ipython",
    "version": 3
   },
   "file_extension": ".py",
   "mimetype": "text/x-python",
   "name": "python",
   "nbconvert_exporter": "python",
   "pygments_lexer": "ipython3",
   "version": "3.5.2"
  },
  "toc": {
   "colors": {
    "hover_highlight": "#DAA520",
    "running_highlight": "#FF0000",
    "selected_highlight": "#FFD700"
   },
   "moveMenuLeft": true,
   "nav_menu": {
    "height": "3px",
    "width": "253px"
   },
   "navigate_menu": true,
   "number_sections": true,
   "sideBar": true,
   "threshold": 4,
   "toc_cell": false,
   "toc_section_display": "block",
   "toc_window_display": false,
   "widenNotebook": false
  }
 },
 "nbformat": 4,
 "nbformat_minor": 2
}
